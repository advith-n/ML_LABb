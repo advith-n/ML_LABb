{
 "cells": [
  {
   "cell_type": "code",
   "execution_count": 1,
   "id": "4c038fd3",
   "metadata": {},
   "outputs": [
    {
     "name": "stdout",
     "output_type": "stream",
     "text": [
      "The optimal value is: 12\n"
     ]
    }
   ],
   "source": [
    "def minmax(depth, nodeIndex, maximizingPlayer, values):\n",
    "    # Terminal condition: return the value at the terminal node\n",
    "    if depth == 3:\n",
    "        return values[nodeIndex]\n",
    "    \n",
    "    if maximizingPlayer:\n",
    "        best = float('-inf')\n",
    "        for i in range(2):\n",
    "            val = minmax(depth + 1, nodeIndex * 2 + i, False, values)\n",
    "            best = max(best, val)\n",
    "        return best\n",
    "    else:\n",
    "        best = float('inf')\n",
    "        for i in range(2):\n",
    "            val = minmax(depth + 1, nodeIndex * 2 + i, True, values)\n",
    "            best = min(best, val)\n",
    "        return best\n",
    "\n",
    "# Example tree with depth 3 and 8 terminal nodes\n",
    "values = [3, 5, 2, 9, 12, 5, 23, 23]\n",
    "\n",
    "# Start the Minimax algorithm\n",
    "result = minmax(0, 0, True, values)\n",
    "print(\"The optimal value is:\", result)"
   ]
  },
  {
   "cell_type": "markdown",
   "id": "46368b85",
   "metadata": {},
   "source": [
    "# 2"
   ]
  },
  {
   "cell_type": "code",
   "execution_count": 2,
   "id": "26ca95e1",
   "metadata": {},
   "outputs": [
    {
     "name": "stdout",
     "output_type": "stream",
     "text": [
      "8\n",
      "[0, 0, 8]\n"
     ]
    }
   ],
   "source": [
    "class Tree:\n",
    "    def __init__(self,value,children=[]):\n",
    "        self.value=value\n",
    "        self.children=children\n",
    "\n",
    "game_tree=Tree(0,\n",
    "[\n",
    "    Tree(0,\n",
    "    [Tree(3),Tree(12)]\n",
    "    ),\n",
    "    Tree(0,\n",
    "    [Tree(8),Tree(2)]\n",
    "    ),\n",
    "])\n",
    "\n",
    "def minmax(tree,depth,max_player):\n",
    "    if(depth==0 or not tree.children):\n",
    "        return tree.value,[tree.value]\n",
    "    if(max_player):\n",
    "        max_value=float(\"-inf\")\n",
    "        max_path=[]\n",
    "        for child in tree.children:\n",
    "            child_value,child_path=minmax(child,depth-1,False)\n",
    "            if(child_value>max_value):\n",
    "                max_value=child_value\n",
    "                max_path=[tree.value]+child_path\n",
    "        return max_value,max_path\n",
    "    else:\n",
    "        min_value=float(\"inf\")\n",
    "        min_path=[]\n",
    "        for child in tree.children:\n",
    "            child_value,child_path=minmax(child,depth-1,True)\n",
    "            if(child_value<min_value):\n",
    "                min_value=child_value\n",
    "                min_path=[tree.value]+child_path\n",
    "        return min_value,min_path\n",
    "\n",
    "val,path=minmax(game_tree,2,False)\n",
    "print(val)\n",
    "print(path)"
   ]
  },
  {
   "cell_type": "code",
   "execution_count": null,
   "id": "72a057e0",
   "metadata": {},
   "outputs": [],
   "source": []
  }
 ],
 "metadata": {
  "kernelspec": {
   "display_name": "Python 3 (ipykernel)",
   "language": "python",
   "name": "python3"
  },
  "language_info": {
   "codemirror_mode": {
    "name": "ipython",
    "version": 3
   },
   "file_extension": ".py",
   "mimetype": "text/x-python",
   "name": "python",
   "nbconvert_exporter": "python",
   "pygments_lexer": "ipython3",
   "version": "3.11.5"
  }
 },
 "nbformat": 4,
 "nbformat_minor": 5
}
