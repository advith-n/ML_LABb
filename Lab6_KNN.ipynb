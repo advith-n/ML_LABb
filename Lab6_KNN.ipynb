{
 "cells": [
  {
   "cell_type": "markdown",
   "id": "6e32c345",
   "metadata": {},
   "source": [
    "# Without Sklearn"
   ]
  },
  {
   "cell_type": "code",
   "execution_count": 5,
   "id": "85b13ddb",
   "metadata": {},
   "outputs": [
    {
     "name": "stdout",
     "output_type": "stream",
     "text": [
      "Accuracy: 0.6307692307692307\n"
     ]
    }
   ],
   "source": [
    "import numpy as np\n",
    "import pandas as pd\n",
    "from collections import Counter\n",
    "from sklearn.model_selection import train_test_split\n",
    "from sklearn.metrics import accuracy_score\n",
    "\n",
    "class KNN:\n",
    "    def __init__(self, k=3):\n",
    "        self.k = k\n",
    "\n",
    "    def fit(self, X, y):\n",
    "        self.X_train = X\n",
    "        self.y_train = y\n",
    "\n",
    "    def predict(self, X):\n",
    "        predictions = []\n",
    "        for x in X:\n",
    "            distances = np.sqrt(np.sum((self.X_train - x) ** 2, axis=1))\n",
    "            k_indices = np.argsort(distances)[:self.k]\n",
    "            k_labels = [self.y_train[i] for i in k_indices]\n",
    "            most_common = Counter(k_labels).most_common(1)\n",
    "            predictions.append(most_common[0][0])\n",
    "        return predictions\n",
    "\n",
    "df = pd.read_csv(\"glass.csv\")\n",
    "X = df.drop(\"Type\", axis=1).values\n",
    "y = df['Type'].values\n",
    "\n",
    "X_train, X_test, y_train, y_test = train_test_split(X, y, test_size=0.3, random_state=40)\n",
    "\n",
    "clf = KNN(k=3)\n",
    "clf.fit(X_train, y_train)\n",
    "predictions = clf.predict(X_test)\n",
    "\n",
    "accuracy = accuracy_score(y_test, predictions)\n",
    "print(f\"Accuracy: {accuracy}\")"
   ]
  },
  {
   "cell_type": "markdown",
   "id": "523ac340",
   "metadata": {},
   "source": [
    "# With s"
   ]
  },
  {
   "cell_type": "code",
   "execution_count": 6,
   "id": "9fe23844",
   "metadata": {},
   "outputs": [
    {
     "name": "stdout",
     "output_type": "stream",
     "text": [
      "Accuracy with Euclidean distance: 0.5538461538461539\n",
      "Accuracy with Manhattan distance: 0.6153846153846154\n"
     ]
    }
   ],
   "source": [
    "import numpy as np\n",
    "import pandas as pd\n",
    "from sklearn.model_selection import train_test_split\n",
    "from sklearn.neighbors import KNeighborsClassifier\n",
    "from sklearn.metrics import accuracy_score\n",
    "\n",
    "df = pd.read_csv('glass.csv')\n",
    "y = df['Type'].values\n",
    "X = df.drop('Type', axis=1).values\n",
    "\n",
    "X_train, X_test, y_train, y_test = train_test_split(X, y, test_size=0.3)\n",
    "\n",
    "# Using scikit-learn with Euclidean distance\n",
    "clf_euclidean = KNeighborsClassifier(n_neighbors=3, metric='euclidean')\n",
    "clf_euclidean.fit(X_train, y_train)\n",
    "predictions_euclidean = clf_euclidean.predict(X_test)\n",
    "accuracy_euclidean = accuracy_score(y_test, predictions_euclidean)\n",
    "print(\"Accuracy with Euclidean distance:\", accuracy_euclidean)\n",
    "\n",
    "# Using scikit-learn with Manhattan distance\n",
    "clf_manhattan = KNeighborsClassifier(n_neighbors=3, metric='manhattan')\n",
    "clf_manhattan.fit(X_train, y_train)\n",
    "predictions_manhattan = clf_manhattan.predict(X_test)\n",
    "accuracy_manhattan = accuracy_score(y_test, predictions_manhattan)\n",
    "print(\"Accuracy with Manhattan distance:\", accuracy_manhattan)"
   ]
  },
  {
   "cell_type": "code",
   "execution_count": null,
   "id": "0caa96e5",
   "metadata": {},
   "outputs": [],
   "source": []
  }
 ],
 "metadata": {
  "kernelspec": {
   "display_name": "Python 3 (ipykernel)",
   "language": "python",
   "name": "python3"
  },
  "language_info": {
   "codemirror_mode": {
    "name": "ipython",
    "version": 3
   },
   "file_extension": ".py",
   "mimetype": "text/x-python",
   "name": "python",
   "nbconvert_exporter": "python",
   "pygments_lexer": "ipython3",
   "version": "3.11.5"
  }
 },
 "nbformat": 4,
 "nbformat_minor": 5
}
