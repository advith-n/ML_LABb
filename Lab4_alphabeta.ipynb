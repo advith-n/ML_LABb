{
 "cells": [
  {
   "cell_type": "code",
   "execution_count": 8,
   "id": "26482252",
   "metadata": {},
   "outputs": [
    {
     "name": "stdout",
     "output_type": "stream",
     "text": [
      "The optimal value is : 5\n"
     ]
    }
   ],
   "source": [
    "\n",
    "MAX, MIN = 1000, -1000\n",
    "\n",
    "def alphabeta_minimax(depth, nodeIndex, maximizingPlayer, values, alpha, beta):\n",
    "\n",
    "    if depth == 3:\n",
    "        return values[nodeIndex]\n",
    "\n",
    "    if maximizingPlayer:\n",
    "        best = MIN\n",
    "        for i in range(0, 2):\n",
    "            val = alphabeta_minimax(depth + 1, nodeIndex * 2 + i, False, values, alpha, beta)\n",
    "            best = max(best, val)\n",
    "            alpha = max(alpha, best)\n",
    "\n",
    "            if beta <= alpha:\n",
    "                break\n",
    "        return best\n",
    "\n",
    "    else:\n",
    "        best = MAX\n",
    "        for i in range(0, 2):\n",
    "            val = alphabeta_minimax(depth + 1, nodeIndex * 2 + i, True, values, alpha, beta)\n",
    "            best = min(best, val)\n",
    "            beta = min(beta, best)\n",
    "\n",
    "            if beta <= alpha:\n",
    "                break\n",
    "\n",
    "        return best\n",
    "\n",
    "\n",
    "values = [3, 5, 6, 9, 1, 2, 0, -1]\n",
    "print(\"The optimal value is :\", alphabeta_minimax(0, 0, True, values, MIN, MAX))"
   ]
  },
  {
   "cell_type": "code",
   "execution_count": null,
   "id": "e5710c0c",
   "metadata": {},
   "outputs": [],
   "source": []
  }
 ],
 "metadata": {
  "kernelspec": {
   "display_name": "Python 3 (ipykernel)",
   "language": "python",
   "name": "python3"
  },
  "language_info": {
   "codemirror_mode": {
    "name": "ipython",
    "version": 3
   },
   "file_extension": ".py",
   "mimetype": "text/x-python",
   "name": "python",
   "nbconvert_exporter": "python",
   "pygments_lexer": "ipython3",
   "version": "3.11.5"
  }
 },
 "nbformat": 4,
 "nbformat_minor": 5
}
