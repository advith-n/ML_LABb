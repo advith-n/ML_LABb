{
 "cells": [
  {
   "cell_type": "code",
   "execution_count": 3,
   "id": "aab1c961",
   "metadata": {},
   "outputs": [
    {
     "name": "stdout",
     "output_type": "stream",
     "text": [
      "Path found: ['S', 'A', 'C', 'G'] with cost: 6\n"
     ]
    },
    {
     "data": {
      "text/plain": [
       "['S', 'A', 'C', 'G']"
      ]
     },
     "execution_count": 3,
     "metadata": {},
     "output_type": "execute_result"
    }
   ],
   "source": [
    "def a_star_algorithm(graph, start, goal,h):\n",
    "\n",
    "    open_list = [start]\n",
    "    closed_list = set()\n",
    "\n",
    "    g = {start:0}\n",
    "\n",
    "    parents = {start:start}\n",
    "\n",
    "    while open_list:\n",
    "\n",
    "        open_list.sort(key=lambda v: g[v] + h[v])\n",
    "        n = open_list.pop(0)\n",
    "\n",
    "        # If node is goal then construct the path and return\n",
    "        if n == goal:\n",
    "            reconst_path = []\n",
    "\n",
    "            while parents[n] != n:\n",
    "                reconst_path.append(n)\n",
    "                n = parents[n]\n",
    "\n",
    "            reconst_path.append(start)\n",
    "            reconst_path.reverse()\n",
    "\n",
    "            print(f'Path found: {reconst_path} with cost: {g[goal]}')\n",
    "            return reconst_path\n",
    "\n",
    "        for (m, weight) in graph[n]:\n",
    "        # if m is first visited, add it to open_list and note its parent\n",
    "            if m not in open_list and m not in closed_list:\n",
    "                open_list.append(m)\n",
    "                parents[m] = n\n",
    "                g[m] = g[n] + weight\n",
    "\n",
    "            # otherwise, check if it's quicker to first visit n, then m\n",
    "            # and if it is, update parent and g data\n",
    "            # and if the node was in the closed_list, move it to open_list\n",
    "            else:\n",
    "                if g[m] > g[n] + weight:\n",
    "                    g[m] = g[n] + weight\n",
    "                    parents[m] = n\n",
    "\n",
    "                    if m in closed_list:\n",
    "                        closed_list.remove(m)\n",
    "                        open_list.append(m)\n",
    "\n",
    "        # Node's neighbours are visited. Now put node to closed list.\n",
    "        closed_list.add(n)\n",
    "\n",
    "    print('Path does not exist!')\n",
    "    return None\n",
    "\n",
    "\n",
    "graph = {\n",
    "    'S': [('A', 1), ('G', 10)],\n",
    "    'A': [('B', 2), ('C', 1)],\n",
    "    'B': [('D', 5)],\n",
    "    'C': [('D', 3),('G', 4)],\n",
    "    'D': [('G', 2)]\n",
    "}\n",
    "\n",
    "h = {'A': 3, 'B': 4, 'C': 2, 'D': 6, 'G': 0, 'S': 5}\n",
    "\n",
    "a_star_algorithm(graph, 'S', 'G',h)"
   ]
  },
  {
   "cell_type": "markdown",
   "id": "a16e8d57",
   "metadata": {},
   "source": [
    "# Approach 2"
   ]
  },
  {
   "cell_type": "code",
   "execution_count": 2,
   "id": "23d6d60d",
   "metadata": {},
   "outputs": [
    {
     "name": "stdout",
     "output_type": "stream",
     "text": [
      "Path found: ['A', 'C', 'F']\n"
     ]
    }
   ],
   "source": [
    "import heapq\n",
    "\n",
    "def a_star_search(graph, start, goal, h):\n",
    "    open_set = []\n",
    "    heapq.heappush(open_set, (0, start))\n",
    "    came_from = {}\n",
    "    g_score = {start: 0}\n",
    "    f_score = {start: h(start)}\n",
    "\n",
    "    while open_set:\n",
    "        current = heapq.heappop(open_set)[1]\n",
    "\n",
    "        if current == goal:\n",
    "            return reconstruct_path(came_from, current)\n",
    "\n",
    "        for neighbor, weight in graph[current].items():\n",
    "            tentative_g_score = g_score[current] + weight\n",
    "            if neighbor not in g_score or tentative_g_score < g_score[neighbor]:\n",
    "                came_from[neighbor] = current\n",
    "                g_score[neighbor] = tentative_g_score\n",
    "                f_score[neighbor] = g_score[neighbor] + h(neighbor)\n",
    "                heapq.heappush(open_set, (f_score[neighbor], neighbor))\n",
    "\n",
    "    return None\n",
    "\n",
    "def reconstruct_path(came_from, current):\n",
    "    path = [current]\n",
    "    while current in came_from:\n",
    "        current = came_from[current]\n",
    "        path.append(current)\n",
    "    return path[::-1]\n",
    "\n",
    "# Example usage:\n",
    "graph = {\n",
    "    'A': {'B': 1, 'C': 3},\n",
    "    'B': {'A': 1, 'D': 1, 'E': 5},\n",
    "    'C': {'A': 3, 'F': 2},\n",
    "    'D': {'B': 1},\n",
    "    'E': {'B': 5, 'F': 1},\n",
    "    'F': {'C': 2, 'E': 1}\n",
    "}\n",
    "\n",
    "def heuristic(node):\n",
    "    H = {\n",
    "        'A': 6,\n",
    "        'B': 5,\n",
    "        'C': 4,\n",
    "        'D': 3,\n",
    "        'E': 2,\n",
    "        'F': 1\n",
    "    }\n",
    "    return H[node]\n",
    "\n",
    "start = 'A'\n",
    "goal = 'F'\n",
    "path = a_star_search(graph, start, goal, heuristic)\n",
    "print(\"Path found:\", path)\n"
   ]
  },
  {
   "cell_type": "code",
   "execution_count": null,
   "id": "43aad300",
   "metadata": {},
   "outputs": [],
   "source": []
  }
 ],
 "metadata": {
  "kernelspec": {
   "display_name": "Python 3 (ipykernel)",
   "language": "python",
   "name": "python3"
  },
  "language_info": {
   "codemirror_mode": {
    "name": "ipython",
    "version": 3
   },
   "file_extension": ".py",
   "mimetype": "text/x-python",
   "name": "python",
   "nbconvert_exporter": "python",
   "pygments_lexer": "ipython3",
   "version": "3.11.5"
  }
 },
 "nbformat": 4,
 "nbformat_minor": 5
}
