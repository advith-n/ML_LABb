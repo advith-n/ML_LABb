{
 "cells": [
  {
   "cell_type": "code",
   "execution_count": 12,
   "id": "b272da61",
   "metadata": {},
   "outputs": [
    {
     "name": "stdout",
     "output_type": "stream",
     "text": [
      "ID3 Algorithm Results:\n",
      "Accuracy: 0.6666666666666666\n",
      "Classification Report:\n",
      "              precision    recall  f1-score   support\n",
      "\n",
      "          No       0.50      1.00      0.67         1\n",
      "         Yes       1.00      0.50      0.67         2\n",
      "\n",
      "    accuracy                           0.67         3\n",
      "   macro avg       0.75      0.75      0.67         3\n",
      "weighted avg       0.83      0.67      0.67         3\n",
      "\n",
      "Cross-Validation Scores (ID3): [0.66666667 1.         0.66666667 0.33333333 1.        ]\n",
      "Mean CV Accuracy (ID3): 0.7333333333333333\n",
      "\n",
      "\n",
      "CART Algorithm Results:\n",
      "Accuracy: 0.6666666666666666\n",
      "Classification Report:\n",
      "              precision    recall  f1-score   support\n",
      "\n",
      "          No       0.50      1.00      0.67         1\n",
      "         Yes       1.00      0.50      0.67         2\n",
      "\n",
      "    accuracy                           0.67         3\n",
      "   macro avg       0.75      0.75      0.67         3\n",
      "weighted avg       0.83      0.67      0.67         3\n",
      "\n",
      "Cross-Validation Scores (CART): [0.66666667 1.         0.66666667 0.33333333 1.        ]\n",
      "Mean CV Accuracy (CART): 0.7333333333333333\n"
     ]
    }
   ],
   "source": [
    "import pandas as pd\n",
    "from sklearn.preprocessing import OneHotEncoder\n",
    "from sklearn.model_selection import train_test_split, cross_val_score\n",
    "from sklearn.tree import DecisionTreeClassifier\n",
    "from sklearn.metrics import accuracy_score, classification_report\n",
    "\n",
    "df = pd.read_csv('weather_forecast.csv')\n",
    "\n",
    "encoder = OneHotEncoder(drop='first')\n",
    "X_encoded = encoder.fit_transform(df.drop('Play', axis=1)).toarray()\n",
    "y = df['Play']\n",
    "\n",
    "X_train, X_test, y_train, y_test = train_test_split(X_encoded, y, test_size=0.2, random_state=42)\n",
    "\n",
    "# ID3\n",
    "clf_id3 = DecisionTreeClassifier(criterion='entropy', random_state=42)\n",
    "clf_id3.fit(X_train, y_train)\n",
    "y_pred_id3 = clf_id3.predict(X_test)\n",
    "\n",
    "accuracy_id3 = accuracy_score(y_test, y_pred_id3)\n",
    "report_id3 = classification_report(y_test, y_pred_id3)\n",
    "print(\"ID3 Algorithm Results:\")\n",
    "print(f\"Accuracy: {accuracy_id3}\")\n",
    "print(f\"Classification Report:\\n{report_id3}\")\n",
    "\n",
    "cv_scores_id3 = cross_val_score(clf_id3, X_encoded, y, cv=5)\n",
    "print(\"Cross-Validation Scores (ID3):\", cv_scores_id3)\n",
    "print(\"Mean CV Accuracy (ID3):\", cv_scores_id3.mean())\n",
    "\n",
    "# CART\n",
    "clf_cart = DecisionTreeClassifier(criterion='gini', random_state=42)\n",
    "clf_cart.fit(X_train, y_train)\n",
    "y_pred_cart = clf_cart.predict(X_test)\n",
    "\n",
    "accuracy_cart = accuracy_score(y_test, y_pred_cart)\n",
    "report_cart = classification_report(y_test, y_pred_cart)\n",
    "print(\"\\n\\nCART Algorithm Results:\")\n",
    "print(f\"Accuracy: {accuracy_cart}\")\n",
    "print(f\"Classification Report:\\n{report_cart}\")\n",
    "\n",
    "cv_scores_cart = cross_val_score(clf_cart, X_encoded, y, cv=5)\n",
    "print(\"Cross-Validation Scores (CART):\", cv_scores_cart)\n",
    "print(\"Mean CV Accuracy (CART):\", cv_scores_cart.mean())"
   ]
  },
  {
   "cell_type": "code",
   "execution_count": null,
   "id": "6644e34f",
   "metadata": {},
   "outputs": [],
   "source": []
  }
 ],
 "metadata": {
  "kernelspec": {
   "display_name": "Python 3 (ipykernel)",
   "language": "python",
   "name": "python3"
  },
  "language_info": {
   "codemirror_mode": {
    "name": "ipython",
    "version": 3
   },
   "file_extension": ".py",
   "mimetype": "text/x-python",
   "name": "python",
   "nbconvert_exporter": "python",
   "pygments_lexer": "ipython3",
   "version": "3.11.5"
  }
 },
 "nbformat": 4,
 "nbformat_minor": 5
}
